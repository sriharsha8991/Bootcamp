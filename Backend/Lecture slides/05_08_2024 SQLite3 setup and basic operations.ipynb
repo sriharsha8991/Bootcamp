{
 "cells": [
  {
   "cell_type": "markdown",
   "id": "56a16875",
   "metadata": {},
   "source": [
    "# CRUD \n",
    "# C --> Create\n",
    "# R --> Read\n",
    "# U --> Update\n",
    "# D --> Delete"
   ]
  },
  {
   "cell_type": "markdown",
   "id": "59074fc0",
   "metadata": {},
   "source": [
    "# Setting up your Sqlite3"
   ]
  },
  {
   "cell_type": "code",
   "execution_count": 1,
   "id": "d5ae5a1e",
   "metadata": {},
   "outputs": [
    {
     "name": "stderr",
     "output_type": "stream",
     "text": [
      "WARNING: Ignoring invalid distribution -rotobuf (c:\\users\\sriharsha\\anaconda3\\lib\\site-packages)\n",
      "ERROR: Could not find a version that satisfies the requirement sqlite3 (from versions: none)\n",
      "ERROR: No matching distribution found for sqlite3\n",
      "\n",
      "[notice] A new release of pip is available: 23.1.2 -> 24.2\n",
      "[notice] To update, run: python.exe -m pip install --upgrade pip\n"
     ]
    }
   ],
   "source": [
    "!pip install sqlite3"
   ]
  },
  {
   "cell_type": "code",
   "execution_count": 2,
   "id": "b62fc8d7",
   "metadata": {},
   "outputs": [
    {
     "name": "stdout",
     "output_type": "stream",
     "text": [
      "3.35.4\n"
     ]
    }
   ],
   "source": [
    "import sqlite3 as sql\n",
    "\n",
    "print(sql.sqlite_version)"
   ]
  },
  {
   "cell_type": "markdown",
   "id": "83e47d57",
   "metadata": {},
   "source": [
    "# Connection to an sqlite3 Database"
   ]
  },
  {
   "cell_type": "code",
   "execution_count": 3,
   "id": "ab0ee862",
   "metadata": {},
   "outputs": [],
   "source": [
    "# Connect to a databse\n",
    "conn = sql.connect(\"mysqlite3.db\")\n",
    "# cursor objects"
   ]
  },
  {
   "cell_type": "code",
   "execution_count": 7,
   "id": "9fa806eb",
   "metadata": {},
   "outputs": [],
   "source": [
    "cursor = conn.cursor()\n",
    "\n"
   ]
  },
  {
   "cell_type": "code",
   "execution_count": 9,
   "id": "63eed6db",
   "metadata": {},
   "outputs": [
    {
     "data": {
      "text/plain": [
       "<sqlite3.Cursor at 0x230f57ae650>"
      ]
     },
     "execution_count": 9,
     "metadata": {},
     "output_type": "execute_result"
    }
   ],
   "source": [
    "# Create a table:\n",
    "cursor.execute('''\n",
    "                    CREATE TABLE IF NOT EXISTS users(\n",
    "                    ID INTEGER,\n",
    "                    name TEXT,\n",
    "                    age INTEGER)''')"
   ]
  },
  {
   "cell_type": "code",
   "execution_count": 10,
   "id": "4edfe221",
   "metadata": {},
   "outputs": [],
   "source": [
    "conn.commit()"
   ]
  },
  {
   "cell_type": "code",
   "execution_count": 11,
   "id": "c261c88a",
   "metadata": {},
   "outputs": [],
   "source": [
    "# Insert data in to the table\n",
    "cursor.execute(\"\"\"\n",
    "                    INSERT INTO users (ID, name, age)\n",
    "                    VALUES(1,\"Sam\",30)\"\"\")\n",
    "conn.commit()"
   ]
  },
  {
   "cell_type": "code",
   "execution_count": 13,
   "id": "c81873da",
   "metadata": {},
   "outputs": [
    {
     "data": {
      "text/plain": [
       "<sqlite3.Cursor at 0x230f57ae650>"
      ]
     },
     "execution_count": 13,
     "metadata": {},
     "output_type": "execute_result"
    }
   ],
   "source": [
    "# Query the database\n",
    "cursor.execute(\"\"\"\n",
    "                    SELECT * FROM users\"\"\")"
   ]
  },
  {
   "cell_type": "code",
   "execution_count": 14,
   "id": "691fa598",
   "metadata": {},
   "outputs": [
    {
     "name": "stdout",
     "output_type": "stream",
     "text": [
      "(1, 'Sam', 30)\n"
     ]
    }
   ],
   "source": [
    "rows = cursor.fetchall()\n",
    "\n",
    "for i in rows:\n",
    "    print(i)"
   ]
  }
 ],
 "metadata": {
  "kernelspec": {
   "display_name": "Python 3",
   "language": "python",
   "name": "python3"
  },
  "language_info": {
   "codemirror_mode": {
    "name": "ipython",
    "version": 3
   },
   "file_extension": ".py",
   "mimetype": "text/x-python",
   "name": "python",
   "nbconvert_exporter": "python",
   "pygments_lexer": "ipython3",
   "version": "3.8.8"
  }
 },
 "nbformat": 4,
 "nbformat_minor": 5
}
